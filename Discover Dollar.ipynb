{
 "cells": [
  {
   "cell_type": "markdown",
   "metadata": {},
   "source": [
    "#### Importing neccesary libraries"
   ]
  },
  {
   "cell_type": "code",
   "execution_count": 209,
   "metadata": {},
   "outputs": [],
   "source": [
    "import numpy as np\n",
    "import pandas as pd"
   ]
  },
  {
   "cell_type": "markdown",
   "metadata": {},
   "source": [
    "#### Importing DataSet"
   ]
  },
  {
   "cell_type": "code",
   "execution_count": 210,
   "metadata": {},
   "outputs": [],
   "source": [
    "df = pd.read_csv('Fines paid  by doctors.csv')"
   ]
  },
  {
   "cell_type": "code",
   "execution_count": 211,
   "metadata": {},
   "outputs": [
    {
     "data": {
      "text/html": [
       "<div>\n",
       "<style scoped>\n",
       "    .dataframe tbody tr th:only-of-type {\n",
       "        vertical-align: middle;\n",
       "    }\n",
       "\n",
       "    .dataframe tbody tr th {\n",
       "        vertical-align: top;\n",
       "    }\n",
       "\n",
       "    .dataframe thead th {\n",
       "        text-align: right;\n",
       "    }\n",
       "</style>\n",
       "<table border=\"1\" class=\"dataframe\">\n",
       "  <thead>\n",
       "    <tr style=\"text-align: right;\">\n",
       "      <th></th>\n",
       "      <th>org_indiv</th>\n",
       "      <th>first_name</th>\n",
       "      <th>last_name</th>\n",
       "      <th>city</th>\n",
       "      <th>state</th>\n",
       "      <th>category</th>\n",
       "      <th>cash_fine</th>\n",
       "      <th>online_fine</th>\n",
       "    </tr>\n",
       "  </thead>\n",
       "  <tbody>\n",
       "    <tr>\n",
       "      <th>0</th>\n",
       "      <td>3-D MEDICAL SERVICES LLC</td>\n",
       "      <td>STEVEN</td>\n",
       "      <td>DEITELZWEIG</td>\n",
       "      <td>NEW ORLEANS</td>\n",
       "      <td>LA</td>\n",
       "      <td>Professional Advising</td>\n",
       "      <td>$2,625.00</td>\n",
       "      <td>$-</td>\n",
       "    </tr>\n",
       "    <tr>\n",
       "      <th>1</th>\n",
       "      <td>AA DOCTORS, INC.</td>\n",
       "      <td>AAKASH</td>\n",
       "      <td>AHUJA</td>\n",
       "      <td>PASO ROBLES</td>\n",
       "      <td>CA</td>\n",
       "      <td>Expert-Led Forums</td>\n",
       "      <td>$1,000.00</td>\n",
       "      <td>$-</td>\n",
       "    </tr>\n",
       "    <tr>\n",
       "      <th>2</th>\n",
       "      <td>ABBO, LILIAN MARGARITA</td>\n",
       "      <td>LILIAN</td>\n",
       "      <td>ABBO</td>\n",
       "      <td>MIAMI</td>\n",
       "      <td>FL</td>\n",
       "      <td>Business Related Travel</td>\n",
       "      <td>$-</td>\n",
       "      <td>$448.00</td>\n",
       "    </tr>\n",
       "    <tr>\n",
       "      <th>3</th>\n",
       "      <td>ABBO, LILIAN MARGARITA</td>\n",
       "      <td>LILIAN</td>\n",
       "      <td>ABBO</td>\n",
       "      <td>MIAMI</td>\n",
       "      <td>FL</td>\n",
       "      <td>Meals</td>\n",
       "      <td>$-</td>\n",
       "      <td>$119.00</td>\n",
       "    </tr>\n",
       "    <tr>\n",
       "      <th>4</th>\n",
       "      <td>ABBO, LILIAN MARGARITA</td>\n",
       "      <td>LILIAN</td>\n",
       "      <td>ABBO</td>\n",
       "      <td>MIAMI</td>\n",
       "      <td>FL</td>\n",
       "      <td>Professional Advising</td>\n",
       "      <td>$1,800.00</td>\n",
       "      <td>$-</td>\n",
       "    </tr>\n",
       "  </tbody>\n",
       "</table>\n",
       "</div>"
      ],
      "text/plain": [
       "                  org_indiv first_name    last_name         city state  \\\n",
       "0  3-D MEDICAL SERVICES LLC     STEVEN  DEITELZWEIG  NEW ORLEANS    LA   \n",
       "1          AA DOCTORS, INC.     AAKASH        AHUJA  PASO ROBLES    CA   \n",
       "2    ABBO, LILIAN MARGARITA     LILIAN         ABBO        MIAMI    FL   \n",
       "3    ABBO, LILIAN MARGARITA     LILIAN         ABBO        MIAMI    FL   \n",
       "4    ABBO, LILIAN MARGARITA     LILIAN         ABBO        MIAMI    FL   \n",
       "\n",
       "                  category  cash_fine   online_fine   \n",
       "0    Professional Advising  $2,625.00          $-     \n",
       "1        Expert-Led Forums  $1,000.00          $-     \n",
       "2  Business Related Travel       $-         $448.00   \n",
       "3                    Meals       $-         $119.00   \n",
       "4    Professional Advising  $1,800.00          $-     "
      ]
     },
     "execution_count": 211,
     "metadata": {},
     "output_type": "execute_result"
    }
   ],
   "source": [
    "df.head()"
   ]
  },
  {
   "cell_type": "code",
   "execution_count": 212,
   "metadata": {
    "scrolled": true
   },
   "outputs": [],
   "source": [
    "df2 = pd.read_excel(r'Emails sent (1).xlsx')"
   ]
  },
  {
   "cell_type": "code",
   "execution_count": 213,
   "metadata": {},
   "outputs": [
    {
     "data": {
      "text/html": [
       "<div>\n",
       "<style scoped>\n",
       "    .dataframe tbody tr th:only-of-type {\n",
       "        vertical-align: middle;\n",
       "    }\n",
       "\n",
       "    .dataframe tbody tr th {\n",
       "        vertical-align: top;\n",
       "    }\n",
       "\n",
       "    .dataframe thead th {\n",
       "        text-align: right;\n",
       "    }\n",
       "</style>\n",
       "<table border=\"1\" class=\"dataframe\">\n",
       "  <thead>\n",
       "    <tr style=\"text-align: right;\">\n",
       "      <th></th>\n",
       "      <th>name_last</th>\n",
       "      <th>name_first</th>\n",
       "      <th>name_middle</th>\n",
       "      <th>mail_sent_date</th>\n",
       "      <th>office</th>\n",
       "    </tr>\n",
       "  </thead>\n",
       "  <tbody>\n",
       "    <tr>\n",
       "      <th>0</th>\n",
       "      <td>ADELGLASS</td>\n",
       "      <td>JEFFREY</td>\n",
       "      <td>M.</td>\n",
       "      <td>2009-05-22 00:00:00</td>\n",
       "      <td>Center for Drug Evaluation and Research</td>\n",
       "    </tr>\n",
       "    <tr>\n",
       "      <th>1</th>\n",
       "      <td>ADKINSON</td>\n",
       "      <td>N.</td>\n",
       "      <td>FRANKLIN</td>\n",
       "      <td>2010-04-17</td>\n",
       "      <td>Center for Biologics Evaluation and Research</td>\n",
       "    </tr>\n",
       "    <tr>\n",
       "      <th>2</th>\n",
       "      <td>ALLEN</td>\n",
       "      <td>MARK</td>\n",
       "      <td>S.</td>\n",
       "      <td>2012-01-26</td>\n",
       "      <td>Center for Devices and Radiological Health</td>\n",
       "    </tr>\n",
       "    <tr>\n",
       "      <th>3</th>\n",
       "      <td>AMSTERDAM</td>\n",
       "      <td>DANIEL</td>\n",
       "      <td>NaN</td>\n",
       "      <td>2014.11.15</td>\n",
       "      <td>Center for Biologics Evaluation and Research</td>\n",
       "    </tr>\n",
       "    <tr>\n",
       "      <th>4</th>\n",
       "      <td>AMSTUTZ</td>\n",
       "      <td>HARLAN</td>\n",
       "      <td>C.</td>\n",
       "      <td>2014.07.17</td>\n",
       "      <td>Center for Devices and Radiological Health</td>\n",
       "    </tr>\n",
       "  </tbody>\n",
       "</table>\n",
       "</div>"
      ],
      "text/plain": [
       "   name_last name_first name_middle       mail_sent_date  \\\n",
       "0  ADELGLASS    JEFFREY          M.  2009-05-22 00:00:00   \n",
       "1   ADKINSON         N.    FRANKLIN           2010-04-17   \n",
       "2      ALLEN       MARK          S.           2012-01-26   \n",
       "3  AMSTERDAM     DANIEL         NaN           2014.11.15   \n",
       "4    AMSTUTZ     HARLAN          C.           2014.07.17   \n",
       "\n",
       "                                         office  \n",
       "0       Center for Drug Evaluation and Research  \n",
       "1  Center for Biologics Evaluation and Research  \n",
       "2    Center for Devices and Radiological Health  \n",
       "3  Center for Biologics Evaluation and Research  \n",
       "4    Center for Devices and Radiological Health  "
      ]
     },
     "execution_count": 213,
     "metadata": {},
     "output_type": "execute_result"
    }
   ],
   "source": [
    "df2.head()"
   ]
  },
  {
   "cell_type": "markdown",
   "metadata": {},
   "source": [
    "#### First Question \n",
    "Standardise the mail_sent_date column values to YYYY-MM-DD standard date format"
   ]
  },
  {
   "cell_type": "code",
   "execution_count": 214,
   "metadata": {},
   "outputs": [],
   "source": [
    "df2['mail_sent_date'] = pd.to_datetime(df2['mail_sent_date'])"
   ]
  },
  {
   "cell_type": "code",
   "execution_count": 215,
   "metadata": {},
   "outputs": [
    {
     "data": {
      "text/plain": [
       "0   2009-05-22\n",
       "1   2010-04-17\n",
       "2   2012-01-26\n",
       "3   2014-11-15\n",
       "4   2014-07-17\n",
       "Name: mail_sent_date, dtype: datetime64[ns]"
      ]
     },
     "execution_count": 215,
     "metadata": {},
     "output_type": "execute_result"
    }
   ],
   "source": [
    "df2['mail_sent_date'].head()"
   ]
  },
  {
   "cell_type": "markdown",
   "metadata": {},
   "source": [
    "#### Second Question\n",
    "In which Year maximum number of emails were sent to doctors? "
   ]
  },
  {
   "cell_type": "code",
   "execution_count": 216,
   "metadata": {},
   "outputs": [
    {
     "data": {
      "text/plain": [
       "2014.0"
      ]
     },
     "execution_count": 216,
     "metadata": {},
     "output_type": "execute_result"
    }
   ],
   "source": [
    "df2['mail_sent_date'].dt.year.median()"
   ]
  },
  {
   "cell_type": "code",
   "execution_count": 255,
   "metadata": {},
   "outputs": [
    {
     "data": {
      "image/png": "[encoded data removed]",
      "text/plain": [
       "<Figure size 432x288 with 1 Axes>"
      ]
     },
     "metadata": {},
     "output_type": "display_data"
    }
   ],
   "source": [
    "import matplotlib.pyplot as plt\n",
    "\n",
    "df2['mail_sent_date'].dt.year.hist(bins=len(df2['mail_sent_date'].dt.year.unique()),rwidth=0.7)\n",
    "plt.show()"
   ]
  },
  {
   "cell_type": "markdown",
   "metadata": {},
   "source": [
    "#### Third Question\n",
    "Write a query to get total fine paid per Office"
   ]
  },
  {
   "cell_type": "code",
   "execution_count": 218,
   "metadata": {
    "scrolled": false
   },
   "outputs": [
    {
     "name": "stdout",
     "output_type": "stream",
     "text": [
      "<class 'pandas.core.frame.DataFrame'>\n",
      "RangeIndex: 272 entries, 0 to 271\n",
      "Data columns (total 5 columns):\n",
      "name_last         272 non-null object\n",
      "name_first        272 non-null object\n",
      "name_middle       181 non-null object\n",
      "mail_sent_date    272 non-null datetime64[ns]\n",
      "office            272 non-null object\n",
      "dtypes: datetime64[ns](1), object(4)\n",
      "memory usage: 10.7+ KB\n"
     ]
    }
   ],
   "source": [
    "df2.info()"
   ]
  },
  {
   "cell_type": "code",
   "execution_count": 219,
   "metadata": {
    "scrolled": true
   },
   "outputs": [
    {
     "name": "stdout",
     "output_type": "stream",
     "text": [
      "<class 'pandas.core.frame.DataFrame'>\n",
      "RangeIndex: 10087 entries, 0 to 10086\n",
      "Data columns (total 8 columns):\n",
      "org_indiv        10087 non-null object\n",
      "first_name       9884 non-null object\n",
      "last_name        10087 non-null object\n",
      "city             10087 non-null object\n",
      "state            10087 non-null object\n",
      "category         10086 non-null object\n",
      " cash_fine       10087 non-null object\n",
      " online_fine     10087 non-null object\n",
      "dtypes: object(8)\n",
      "memory usage: 630.5+ KB\n"
     ]
    }
   ],
   "source": [
    "df.info()"
   ]
  },
  {
   "cell_type": "code",
   "execution_count": 220,
   "metadata": {
    "scrolled": true
   },
   "outputs": [],
   "source": [
    "df2 = df2.rename(columns={\"name_last\": \"last_name\", \"name_first\": \"first_name\"})"
   ]
  },
  {
   "cell_type": "code",
   "execution_count": 221,
   "metadata": {},
   "outputs": [],
   "source": [
    "df.columns = df.columns.str.strip()"
   ]
  },
  {
   "cell_type": "code",
   "execution_count": 222,
   "metadata": {
    "scrolled": true
   },
   "outputs": [],
   "source": [
    "df['cash_fine'] = df['cash_fine'].str.replace('$', '')\n",
    "df['cash_fine'] = df['cash_fine'].str.replace(',', '')\n",
    "df['cash_fine'] = df['cash_fine'].str.replace('-', '')"
   ]
  },
  {
   "cell_type": "code",
   "execution_count": 223,
   "metadata": {},
   "outputs": [],
   "source": [
    "df['online_fine'] = df['online_fine'].str.replace(',', '').str.replace('$', '').str.replace('-', '')"
   ]
  },
  {
   "cell_type": "code",
   "execution_count": 224,
   "metadata": {},
   "outputs": [],
   "source": [
    "df = df.replace(r'^\\s*$', np.nan, regex=True)"
   ]
  },
  {
   "cell_type": "code",
   "execution_count": 225,
   "metadata": {},
   "outputs": [],
   "source": [
    "df['online_fine'] = pd.to_numeric(df['online_fine'], errors='coerce')"
   ]
  },
  {
   "cell_type": "code",
   "execution_count": 226,
   "metadata": {},
   "outputs": [],
   "source": [
    "df['cash_fine'] = pd.to_numeric(df['cash_fine'], errors='coerce')"
   ]
  },
  {
   "cell_type": "code",
   "execution_count": 227,
   "metadata": {
    "scrolled": true
   },
   "outputs": [
    {
     "name": "stdout",
     "output_type": "stream",
     "text": [
      "<class 'pandas.core.frame.DataFrame'>\n",
      "RangeIndex: 10087 entries, 0 to 10086\n",
      "Data columns (total 8 columns):\n",
      "org_indiv      10087 non-null object\n",
      "first_name     9884 non-null object\n",
      "last_name      10087 non-null object\n",
      "city           10087 non-null object\n",
      "state          10087 non-null object\n",
      "category       10086 non-null object\n",
      "cash_fine      4663 non-null float64\n",
      "online_fine    5423 non-null float64\n",
      "dtypes: float64(2), object(6)\n",
      "memory usage: 630.5+ KB\n"
     ]
    }
   ],
   "source": [
    "df.info()"
   ]
  },
  {
   "cell_type": "code",
   "execution_count": 228,
   "metadata": {},
   "outputs": [],
   "source": [
    "df_merge = pd.merge(df,df2,how='outer',on=['first_name','last_name'])"
   ]
  },
  {
   "cell_type": "code",
   "execution_count": 229,
   "metadata": {},
   "outputs": [
    {
     "data": {
      "text/plain": [
       "category\n",
       "Business Related Travel                                                 0.0\n",
       "Educational Items                                                       0.0\n",
       "Expert-Led Forums                                                 9643970.0\n",
       "Infosys Sponsored Research initiated before July 1, 2009         11137574.0\n",
       "Infosys Sponsored Research initiated on or after July 1, 2009     2896911.0\n",
       "Investigator-Initiated Research                                   1441855.0\n",
       "Meals                                                                   0.0\n",
       "Professional Advising                                             7572131.0\n",
       "Name: cash_fine, dtype: float64"
      ]
     },
     "execution_count": 229,
     "metadata": {},
     "output_type": "execute_result"
    }
   ],
   "source": [
    "df_merge.groupby(by='category').sum()['cash_fine']"
   ]
  },
  {
   "cell_type": "markdown",
   "metadata": {},
   "source": [
    "#### Fourth Question\n",
    "Write a query to get the highest total fine and lowest total fine paid per state"
   ]
  },
  {
   "cell_type": "code",
   "execution_count": 230,
   "metadata": {},
   "outputs": [],
   "source": [
    "df_merge = df.replace(np.nan, 0, regex=True)"
   ]
  },
  {
   "cell_type": "code",
   "execution_count": 231,
   "metadata": {},
   "outputs": [],
   "source": [
    "df_merge['total_fine'] = df_merge['cash_fine'] + df_merge['online_fine'] "
   ]
  },
  {
   "cell_type": "code",
   "execution_count": 232,
   "metadata": {
    "scrolled": true
   },
   "outputs": [
    {
     "name": "stdout",
     "output_type": "stream",
     "text": [
      "Lowest Fine paid per State state\n",
      "AK    1750.0\n",
      "AL      26.0\n",
      "AR      26.0\n",
      "AZ      26.0\n",
      "CA      25.0\n",
      "CO      31.0\n",
      "CT      25.0\n",
      "DC      25.0\n",
      "DE      36.0\n",
      "FL      25.0\n",
      "GA      25.0\n",
      "HI     102.0\n",
      "IA      26.0\n",
      "ID      33.0\n",
      "IL      25.0\n",
      "IN      26.0\n",
      "KS      29.0\n",
      "KY      26.0\n",
      "LA      27.0\n",
      "MA      29.0\n",
      "MD      26.0\n",
      "ME      42.0\n",
      "MI      26.0\n",
      "MN      25.0\n",
      "MO      26.0\n",
      "MS      34.0\n",
      "MT      29.0\n",
      "NC       0.0\n",
      "ND      63.0\n",
      "NE      25.0\n",
      "NH      96.0\n",
      "NJ      25.0\n",
      "NM      60.0\n",
      "NV      25.0\n",
      "NY      25.0\n",
      "OH      25.0\n",
      "OK      37.0\n",
      "OR      27.0\n",
      "PA      25.0\n",
      "PR      26.0\n",
      "RI      28.0\n",
      "SC      26.0\n",
      "SD      66.0\n",
      "TN      27.0\n",
      "TX      25.0\n",
      "UT      27.0\n",
      "VA      36.0\n",
      "VT      40.0\n",
      "WA      31.0\n",
      "WI      25.0\n",
      "WV      28.0\n",
      "WY      27.0\n",
      "Name: total_fine, dtype: float64\n",
      "Highest Fine paid per State state\n",
      "AK       1750.0\n",
      "AL     232991.0\n",
      "AR      77670.0\n",
      "AZ     151642.0\n",
      "CA     323122.0\n",
      "CO     282565.0\n",
      "CT     132853.0\n",
      "DC      62000.0\n",
      "DE      19750.0\n",
      "FL    1185466.0\n",
      "GA     101734.0\n",
      "HI       6500.0\n",
      "IA     123375.0\n",
      "ID       7000.0\n",
      "IL     160984.0\n",
      "IN      40500.0\n",
      "KS      70000.0\n",
      "KY     137642.0\n",
      "LA      42000.0\n",
      "MA     617548.0\n",
      "MD     171986.0\n",
      "ME       6000.0\n",
      "MI     152466.0\n",
      "MN     146623.0\n",
      "MO      88302.0\n",
      "MS       8500.0\n",
      "MT       4350.0\n",
      "NC     857698.0\n",
      "ND       4450.0\n",
      "NE      50449.0\n",
      "NH      78000.0\n",
      "NJ      88087.0\n",
      "NM      18750.0\n",
      "NV       9200.0\n",
      "NY     100000.0\n",
      "OH     107292.0\n",
      "OK       7250.0\n",
      "OR     186490.0\n",
      "PA     672263.0\n",
      "PR      20175.0\n",
      "RI      65278.0\n",
      "SC     117225.0\n",
      "SD       7750.0\n",
      "TN     177786.0\n",
      "TX     479314.0\n",
      "UT     224997.0\n",
      "VA      38102.0\n",
      "VT      11153.0\n",
      "WA      46660.0\n",
      "WI     131863.0\n",
      "WV      19500.0\n",
      "WY       7750.0\n",
      "Name: total_fine, dtype: float64\n"
     ]
    }
   ],
   "source": [
    "print('Lowest Fine paid per State',df_merge.groupby(by='state').min()['total_fine'])\n",
    "print('Highest Fine paid per State',df_merge.groupby(by='state').max()['total_fine'])"
   ]
  },
  {
   "cell_type": "markdown",
   "metadata": {},
   "source": [
    "#### Fifth Question\n",
    "Write a query to get the least 2 states that had to pay minimum 'online' fine "
   ]
  },
  {
   "cell_type": "code",
   "execution_count": 239,
   "metadata": {
    "scrolled": true
   },
   "outputs": [
    {
     "data": {
      "text/plain": [
       "state\n",
       "NJ     25.0\n",
       "MN     25.0\n",
       "NE     25.0\n",
       "IL     25.0\n",
       "OH     25.0\n",
       "TX     25.0\n",
       "FL     25.0\n",
       "GA     25.0\n",
       "DC     25.0\n",
       "CT     25.0\n",
       "WI     25.0\n",
       "CA     25.0\n",
       "NC     25.0\n",
       "NV     25.0\n",
       "NY     25.0\n",
       "PA     25.0\n",
       "MD     26.0\n",
       "MO     26.0\n",
       "MI     26.0\n",
       "AL     26.0\n",
       "KY     26.0\n",
       "SC     26.0\n",
       "IA     26.0\n",
       "AZ     26.0\n",
       "AR     26.0\n",
       "PR     26.0\n",
       "IN     26.0\n",
       "OR     27.0\n",
       "TN     27.0\n",
       "UT     27.0\n",
       "WY     27.0\n",
       "LA     27.0\n",
       "RI     28.0\n",
       "WV     28.0\n",
       "KS     29.0\n",
       "MA     29.0\n",
       "MT     29.0\n",
       "WA     31.0\n",
       "CO     31.0\n",
       "ID     33.0\n",
       "MS     34.0\n",
       "DE     36.0\n",
       "VA     36.0\n",
       "OK     37.0\n",
       "VT     40.0\n",
       "ME     42.0\n",
       "NM     60.0\n",
       "ND     63.0\n",
       "SD     66.0\n",
       "NH     96.0\n",
       "HI    102.0\n",
       "AK      NaN\n",
       "Name: online_fine, dtype: float64"
      ]
     },
     "execution_count": 239,
     "metadata": {},
     "output_type": "execute_result"
    }
   ],
   "source": [
    "df.groupby(by='state').min()['online_fine'].sort_values()"
   ]
  },
  {
   "cell_type": "code",
   "execution_count": 240,
   "metadata": {
    "scrolled": true
   },
   "outputs": [
    {
     "data": {
      "text/plain": [
       "state\n",
       "AK    0.0\n",
       "ND    0.0\n",
       "NE    0.0\n",
       "NH    0.0\n",
       "NJ    0.0\n",
       "NM    0.0\n",
       "NV    0.0\n",
       "NY    0.0\n",
       "OH    0.0\n",
       "OK    0.0\n",
       "OR    0.0\n",
       "NC    0.0\n",
       "PA    0.0\n",
       "RI    0.0\n",
       "SC    0.0\n",
       "SD    0.0\n",
       "TN    0.0\n",
       "TX    0.0\n",
       "UT    0.0\n",
       "VA    0.0\n",
       "VT    0.0\n",
       "WA    0.0\n",
       "WI    0.0\n",
       "PR    0.0\n",
       "MT    0.0\n",
       "MS    0.0\n",
       "MO    0.0\n",
       "AL    0.0\n",
       "AR    0.0\n",
       "AZ    0.0\n",
       "CA    0.0\n",
       "CO    0.0\n",
       "CT    0.0\n",
       "DC    0.0\n",
       "DE    0.0\n",
       "FL    0.0\n",
       "GA    0.0\n",
       "HI    0.0\n",
       "IA    0.0\n",
       "ID    0.0\n",
       "IL    0.0\n",
       "IN    0.0\n",
       "KS    0.0\n",
       "KY    0.0\n",
       "LA    0.0\n",
       "MA    0.0\n",
       "MD    0.0\n",
       "ME    0.0\n",
       "MI    0.0\n",
       "MN    0.0\n",
       "WV    0.0\n",
       "WY    0.0\n",
       "Name: online_fine, dtype: float64"
      ]
     },
     "execution_count": 240,
     "metadata": {},
     "output_type": "execute_result"
    }
   ],
   "source": [
    "## In case we consider empty value as zero then the fine will be\n",
    "df_merge.groupby(by='state').min()['online_fine'].sort_values()"
   ]
  },
  {
   "cell_type": "markdown",
   "metadata": {},
   "source": [
    "#### Question 6\n",
    "Write a SQL query to find the number of doctors that contributed to the state having highest 'cash' fine"
   ]
  },
  {
   "cell_type": "code",
   "execution_count": 243,
   "metadata": {},
   "outputs": [
    {
     "data": {
      "text/html": [
       "<div>\n",
       "<style scoped>\n",
       "    .dataframe tbody tr th:only-of-type {\n",
       "        vertical-align: middle;\n",
       "    }\n",
       "\n",
       "    .dataframe tbody tr th {\n",
       "        vertical-align: top;\n",
       "    }\n",
       "\n",
       "    .dataframe thead th {\n",
       "        text-align: right;\n",
       "    }\n",
       "</style>\n",
       "<table border=\"1\" class=\"dataframe\">\n",
       "  <thead>\n",
       "    <tr style=\"text-align: right;\">\n",
       "      <th></th>\n",
       "      <th>org_indiv</th>\n",
       "      <th>first_name</th>\n",
       "      <th>last_name</th>\n",
       "      <th>city</th>\n",
       "      <th>state</th>\n",
       "      <th>category</th>\n",
       "      <th>cash_fine</th>\n",
       "      <th>online_fine</th>\n",
       "      <th>total_fine</th>\n",
       "    </tr>\n",
       "  </thead>\n",
       "  <tbody>\n",
       "    <tr>\n",
       "      <th>6160</th>\n",
       "      <td>MRA CLINICAL RESEARCH</td>\n",
       "      <td>PATRICIA</td>\n",
       "      <td>PARDO-LANG</td>\n",
       "      <td>MIAMI</td>\n",
       "      <td>FL</td>\n",
       "      <td>Infosys Sponsored Research initiated on or aft...</td>\n",
       "      <td>1185466.0</td>\n",
       "      <td>0.0</td>\n",
       "      <td>1185466.0</td>\n",
       "    </tr>\n",
       "  </tbody>\n",
       "</table>\n",
       "</div>"
      ],
      "text/plain": [
       "                  org_indiv first_name   last_name   city state  \\\n",
       "6160  MRA CLINICAL RESEARCH   PATRICIA  PARDO-LANG  MIAMI    FL   \n",
       "\n",
       "                                               category  cash_fine  \\\n",
       "6160  Infosys Sponsored Research initiated on or aft...  1185466.0   \n",
       "\n",
       "      online_fine  total_fine  \n",
       "6160          0.0   1185466.0  "
      ]
     },
     "execution_count": 243,
     "metadata": {},
     "output_type": "execute_result"
    }
   ],
   "source": [
    "df_merge[df_merge['cash_fine'] == df_merge['cash_fine'].max()]"
   ]
  },
  {
   "cell_type": "markdown",
   "metadata": {},
   "source": [
    "if df_merge is table and all this data frame columns are columns of table. Then SQL can be formed like"
   ]
  },
  {
   "cell_type": "markdown",
   "metadata": {},
   "source": [
    "select count(first_name) from df_merge where cash_fine = (select max(cash_fine) from df_merge)"
   ]
  },
  {
   "cell_type": "markdown",
   "metadata": {},
   "source": [
    "#### Question 7\n",
    "Get the top 5 average fine paid per state and category\n"
   ]
  },
  {
   "cell_type": "code",
   "execution_count": 249,
   "metadata": {},
   "outputs": [
    {
     "data": {
      "text/plain": [
       "state\n",
       "MA    6813.787645\n",
       "NH    6384.037037\n",
       "CO    6184.040541\n",
       "NC    6079.464752\n",
       "OR    5236.896552\n",
       "Name: total_fine, dtype: float64"
      ]
     },
     "execution_count": 249,
     "metadata": {},
     "output_type": "execute_result"
    }
   ],
   "source": [
    "df_merge.groupby(by='state').mean()['total_fine'].sort_values(ascending=False)[:5]"
   ]
  },
  {
   "cell_type": "code",
   "execution_count": 250,
   "metadata": {},
   "outputs": [
    {
     "data": {
      "text/plain": [
       "category\n",
       "Infosys Sponsored Research initiated on or after July 1, 2009    65838.886364\n",
       "Infosys Sponsored Research initiated before July 1, 2009         54864.896552\n",
       "Investigator-Initiated Research                                  42407.500000\n",
       "Professional Advising                                             4963.692459\n",
       "Expert-Led Forums                                                 3375.558278\n",
       "Name: total_fine, dtype: float64"
      ]
     },
     "execution_count": 250,
     "metadata": {},
     "output_type": "execute_result"
    }
   ],
   "source": [
    "df_merge.groupby(by='category').mean()['total_fine'].sort_values(ascending=False)[:5]"
   ]
  },
  {
   "cell_type": "markdown",
   "metadata": {},
   "source": [
    "#### Basic EDA"
   ]
  },
  {
   "cell_type": "code",
   "execution_count": 256,
   "metadata": {},
   "outputs": [
    {
     "data": {
      "text/html": [
       "<div>\n",
       "<style scoped>\n",
       "    .dataframe tbody tr th:only-of-type {\n",
       "        vertical-align: middle;\n",
       "    }\n",
       "\n",
       "    .dataframe tbody tr th {\n",
       "        vertical-align: top;\n",
       "    }\n",
       "\n",
       "    .dataframe thead th {\n",
       "        text-align: right;\n",
       "    }\n",
       "</style>\n",
       "<table border=\"1\" class=\"dataframe\">\n",
       "  <thead>\n",
       "    <tr style=\"text-align: right;\">\n",
       "      <th></th>\n",
       "      <th>org_indiv</th>\n",
       "      <th>first_name</th>\n",
       "      <th>last_name</th>\n",
       "      <th>city</th>\n",
       "      <th>state</th>\n",
       "      <th>category</th>\n",
       "      <th>cash_fine</th>\n",
       "      <th>online_fine</th>\n",
       "      <th>total_fine</th>\n",
       "    </tr>\n",
       "  </thead>\n",
       "  <tbody>\n",
       "    <tr>\n",
       "      <th>0</th>\n",
       "      <td>3-D MEDICAL SERVICES LLC</td>\n",
       "      <td>STEVEN</td>\n",
       "      <td>DEITELZWEIG</td>\n",
       "      <td>NEW ORLEANS</td>\n",
       "      <td>LA</td>\n",
       "      <td>Professional Advising</td>\n",
       "      <td>2625.0</td>\n",
       "      <td>0.0</td>\n",
       "      <td>2625.0</td>\n",
       "    </tr>\n",
       "    <tr>\n",
       "      <th>1</th>\n",
       "      <td>AA DOCTORS, INC.</td>\n",
       "      <td>AAKASH</td>\n",
       "      <td>AHUJA</td>\n",
       "      <td>PASO ROBLES</td>\n",
       "      <td>CA</td>\n",
       "      <td>Expert-Led Forums</td>\n",
       "      <td>1000.0</td>\n",
       "      <td>0.0</td>\n",
       "      <td>1000.0</td>\n",
       "    </tr>\n",
       "    <tr>\n",
       "      <th>2</th>\n",
       "      <td>ABBO, LILIAN MARGARITA</td>\n",
       "      <td>LILIAN</td>\n",
       "      <td>ABBO</td>\n",
       "      <td>MIAMI</td>\n",
       "      <td>FL</td>\n",
       "      <td>Business Related Travel</td>\n",
       "      <td>0.0</td>\n",
       "      <td>448.0</td>\n",
       "      <td>448.0</td>\n",
       "    </tr>\n",
       "    <tr>\n",
       "      <th>3</th>\n",
       "      <td>ABBO, LILIAN MARGARITA</td>\n",
       "      <td>LILIAN</td>\n",
       "      <td>ABBO</td>\n",
       "      <td>MIAMI</td>\n",
       "      <td>FL</td>\n",
       "      <td>Meals</td>\n",
       "      <td>0.0</td>\n",
       "      <td>119.0</td>\n",
       "      <td>119.0</td>\n",
       "    </tr>\n",
       "  </tbody>\n",
       "</table>\n",
       "</div>"
      ],
      "text/plain": [
       "                  org_indiv first_name    last_name         city state  \\\n",
       "0  3-D MEDICAL SERVICES LLC     STEVEN  DEITELZWEIG  NEW ORLEANS    LA   \n",
       "1          AA DOCTORS, INC.     AAKASH        AHUJA  PASO ROBLES    CA   \n",
       "2    ABBO, LILIAN MARGARITA     LILIAN         ABBO        MIAMI    FL   \n",
       "3    ABBO, LILIAN MARGARITA     LILIAN         ABBO        MIAMI    FL   \n",
       "\n",
       "                  category  cash_fine  online_fine  total_fine  \n",
       "0    Professional Advising     2625.0          0.0      2625.0  \n",
       "1        Expert-Led Forums     1000.0          0.0      1000.0  \n",
       "2  Business Related Travel        0.0        448.0       448.0  \n",
       "3                    Meals        0.0        119.0       119.0  "
      ]
     },
     "execution_count": 256,
     "metadata": {},
     "output_type": "execute_result"
    }
   ],
   "source": [
    "df_merge.head(4)"
   ]
  },
  {
   "cell_type": "code",
   "execution_count": null,
   "metadata": {},
   "outputs": [],
   "source": [
    "classes=df['Class'].value_counts()\n",
    "normal_share=classes[0]/df['Class'].count()*100\n",
    "fraud_share=classes[1]/df['Class'].count()*100"
   ]
  },
  {
   "cell_type": "code",
   "execution_count": 270,
   "metadata": {},
   "outputs": [],
   "source": [
    "df_merge2 = df_merge.groupby(by='category').sum()"
   ]
  },
  {
   "cell_type": "code",
   "execution_count": 272,
   "metadata": {},
   "outputs": [],
   "source": [
    "df_merge2.reset_index(drop=False, inplace=True)"
   ]
  },
  {
   "cell_type": "code",
   "execution_count": 275,
   "metadata": {},
   "outputs": [],
   "source": [
    "df_merge2 = df_merge2[1:]"
   ]
  },
  {
   "cell_type": "code",
   "execution_count": 285,
   "metadata": {},
   "outputs": [
    {
     "data": {
      "text/plain": [
       "<BarContainer object of 8 artists>"
      ]
     },
     "execution_count": 285,
     "metadata": {},
     "output_type": "execute_result"
    },
    {
     "data": {
      "image/png": "[encoded data removed]",
      "text/plain": [
       "<Figure size 720x360 with 1 Axes>"
      ]
     },
     "metadata": {},
     "output_type": "display_data"
    }
   ],
   "source": [
    "plt.figure(figsize=(10,5))\n",
    "plt.xticks(rotation=80)\n",
    "plt.bar(df_merge2['category'],df_merge2['total_fine'].sort_values())"
   ]
  },
  {
   "cell_type": "markdown",
   "metadata": {},
   "source": [
    "##### Highest Fine we are recieving from Professional Advising while lowest from Business Related travel which is almost dimished"
   ]
  },
  {
   "cell_type": "code",
   "execution_count": 294,
   "metadata": {},
   "outputs": [],
   "source": [
    "df_merge3 = df_merge.groupby(by='state').sum()\n",
    "df_merge3.reset_index(drop=False, inplace=True)"
   ]
  },
  {
   "cell_type": "code",
   "execution_count": 295,
   "metadata": {
    "scrolled": true
   },
   "outputs": [
    {
     "data": {
      "text/html": [
       "<div>\n",
       "<style scoped>\n",
       "    .dataframe tbody tr th:only-of-type {\n",
       "        vertical-align: middle;\n",
       "    }\n",
       "\n",
       "    .dataframe tbody tr th {\n",
       "        vertical-align: top;\n",
       "    }\n",
       "\n",
       "    .dataframe thead th {\n",
       "        text-align: right;\n",
       "    }\n",
       "</style>\n",
       "<table border=\"1\" class=\"dataframe\">\n",
       "  <thead>\n",
       "    <tr style=\"text-align: right;\">\n",
       "      <th></th>\n",
       "      <th>state</th>\n",
       "      <th>cash_fine</th>\n",
       "      <th>online_fine</th>\n",
       "      <th>total_fine</th>\n",
       "    </tr>\n",
       "  </thead>\n",
       "  <tbody>\n",
       "    <tr>\n",
       "      <th>0</th>\n",
       "      <td>AK</td>\n",
       "      <td>1750.0</td>\n",
       "      <td>0.0</td>\n",
       "      <td>1750.0</td>\n",
       "    </tr>\n",
       "    <tr>\n",
       "      <th>1</th>\n",
       "      <td>AL</td>\n",
       "      <td>641928.0</td>\n",
       "      <td>39771.0</td>\n",
       "      <td>681699.0</td>\n",
       "    </tr>\n",
       "    <tr>\n",
       "      <th>2</th>\n",
       "      <td>AR</td>\n",
       "      <td>153131.0</td>\n",
       "      <td>7801.0</td>\n",
       "      <td>160932.0</td>\n",
       "    </tr>\n",
       "    <tr>\n",
       "      <th>3</th>\n",
       "      <td>AZ</td>\n",
       "      <td>613168.0</td>\n",
       "      <td>28683.0</td>\n",
       "      <td>641851.0</td>\n",
       "    </tr>\n",
       "    <tr>\n",
       "      <th>4</th>\n",
       "      <td>CA</td>\n",
       "      <td>4331517.0</td>\n",
       "      <td>406290.0</td>\n",
       "      <td>4737807.0</td>\n",
       "    </tr>\n",
       "    <tr>\n",
       "      <th>5</th>\n",
       "      <td>CO</td>\n",
       "      <td>884454.0</td>\n",
       "      <td>30784.0</td>\n",
       "      <td>915238.0</td>\n",
       "    </tr>\n",
       "    <tr>\n",
       "      <th>6</th>\n",
       "      <td>CT</td>\n",
       "      <td>602323.0</td>\n",
       "      <td>29959.0</td>\n",
       "      <td>632282.0</td>\n",
       "    </tr>\n",
       "    <tr>\n",
       "      <th>7</th>\n",
       "      <td>DC</td>\n",
       "      <td>211669.0</td>\n",
       "      <td>38872.0</td>\n",
       "      <td>250541.0</td>\n",
       "    </tr>\n",
       "    <tr>\n",
       "      <th>8</th>\n",
       "      <td>DE</td>\n",
       "      <td>49547.0</td>\n",
       "      <td>4440.0</td>\n",
       "      <td>53987.0</td>\n",
       "    </tr>\n",
       "    <tr>\n",
       "      <th>9</th>\n",
       "      <td>FL</td>\n",
       "      <td>2400881.0</td>\n",
       "      <td>163166.0</td>\n",
       "      <td>2564047.0</td>\n",
       "    </tr>\n",
       "    <tr>\n",
       "      <th>10</th>\n",
       "      <td>GA</td>\n",
       "      <td>553320.0</td>\n",
       "      <td>65325.0</td>\n",
       "      <td>618645.0</td>\n",
       "    </tr>\n",
       "    <tr>\n",
       "      <th>11</th>\n",
       "      <td>HI</td>\n",
       "      <td>33447.0</td>\n",
       "      <td>9170.0</td>\n",
       "      <td>42617.0</td>\n",
       "    </tr>\n",
       "    <tr>\n",
       "      <th>12</th>\n",
       "      <td>IA</td>\n",
       "      <td>231932.0</td>\n",
       "      <td>11774.0</td>\n",
       "      <td>243706.0</td>\n",
       "    </tr>\n",
       "    <tr>\n",
       "      <th>13</th>\n",
       "      <td>ID</td>\n",
       "      <td>32975.0</td>\n",
       "      <td>4681.0</td>\n",
       "      <td>37656.0</td>\n",
       "    </tr>\n",
       "    <tr>\n",
       "      <th>14</th>\n",
       "      <td>IL</td>\n",
       "      <td>1165328.0</td>\n",
       "      <td>91497.0</td>\n",
       "      <td>1256825.0</td>\n",
       "    </tr>\n",
       "    <tr>\n",
       "      <th>15</th>\n",
       "      <td>IN</td>\n",
       "      <td>305220.0</td>\n",
       "      <td>45119.0</td>\n",
       "      <td>350339.0</td>\n",
       "    </tr>\n",
       "    <tr>\n",
       "      <th>16</th>\n",
       "      <td>KS</td>\n",
       "      <td>282666.0</td>\n",
       "      <td>24539.0</td>\n",
       "      <td>307205.0</td>\n",
       "    </tr>\n",
       "    <tr>\n",
       "      <th>17</th>\n",
       "      <td>KY</td>\n",
       "      <td>402919.0</td>\n",
       "      <td>34019.0</td>\n",
       "      <td>436938.0</td>\n",
       "    </tr>\n",
       "    <tr>\n",
       "      <th>18</th>\n",
       "      <td>LA</td>\n",
       "      <td>228064.0</td>\n",
       "      <td>33857.0</td>\n",
       "      <td>261921.0</td>\n",
       "    </tr>\n",
       "    <tr>\n",
       "      <th>19</th>\n",
       "      <td>MA</td>\n",
       "      <td>1605375.0</td>\n",
       "      <td>159396.0</td>\n",
       "      <td>1764771.0</td>\n",
       "    </tr>\n",
       "    <tr>\n",
       "      <th>20</th>\n",
       "      <td>MD</td>\n",
       "      <td>819911.0</td>\n",
       "      <td>50994.0</td>\n",
       "      <td>870905.0</td>\n",
       "    </tr>\n",
       "    <tr>\n",
       "      <th>21</th>\n",
       "      <td>ME</td>\n",
       "      <td>15725.0</td>\n",
       "      <td>3006.0</td>\n",
       "      <td>18731.0</td>\n",
       "    </tr>\n",
       "    <tr>\n",
       "      <th>22</th>\n",
       "      <td>MI</td>\n",
       "      <td>1068920.0</td>\n",
       "      <td>77365.0</td>\n",
       "      <td>1146285.0</td>\n",
       "    </tr>\n",
       "    <tr>\n",
       "      <th>23</th>\n",
       "      <td>MN</td>\n",
       "      <td>527479.0</td>\n",
       "      <td>47321.0</td>\n",
       "      <td>574800.0</td>\n",
       "    </tr>\n",
       "    <tr>\n",
       "      <th>24</th>\n",
       "      <td>MO</td>\n",
       "      <td>920765.0</td>\n",
       "      <td>52821.0</td>\n",
       "      <td>973586.0</td>\n",
       "    </tr>\n",
       "    <tr>\n",
       "      <th>25</th>\n",
       "      <td>MS</td>\n",
       "      <td>74250.0</td>\n",
       "      <td>11026.0</td>\n",
       "      <td>85276.0</td>\n",
       "    </tr>\n",
       "    <tr>\n",
       "      <th>26</th>\n",
       "      <td>MT</td>\n",
       "      <td>8100.0</td>\n",
       "      <td>3108.0</td>\n",
       "      <td>11208.0</td>\n",
       "    </tr>\n",
       "    <tr>\n",
       "      <th>27</th>\n",
       "      <td>NC</td>\n",
       "      <td>2229157.0</td>\n",
       "      <td>99278.0</td>\n",
       "      <td>2328435.0</td>\n",
       "    </tr>\n",
       "    <tr>\n",
       "      <th>28</th>\n",
       "      <td>ND</td>\n",
       "      <td>15825.0</td>\n",
       "      <td>321.0</td>\n",
       "      <td>16146.0</td>\n",
       "    </tr>\n",
       "    <tr>\n",
       "      <th>29</th>\n",
       "      <td>NE</td>\n",
       "      <td>191862.0</td>\n",
       "      <td>8388.0</td>\n",
       "      <td>200250.0</td>\n",
       "    </tr>\n",
       "    <tr>\n",
       "      <th>30</th>\n",
       "      <td>NH</td>\n",
       "      <td>158720.0</td>\n",
       "      <td>13649.0</td>\n",
       "      <td>172369.0</td>\n",
       "    </tr>\n",
       "    <tr>\n",
       "      <th>31</th>\n",
       "      <td>NJ</td>\n",
       "      <td>539084.0</td>\n",
       "      <td>61758.0</td>\n",
       "      <td>600842.0</td>\n",
       "    </tr>\n",
       "    <tr>\n",
       "      <th>32</th>\n",
       "      <td>NM</td>\n",
       "      <td>59875.0</td>\n",
       "      <td>3955.0</td>\n",
       "      <td>63830.0</td>\n",
       "    </tr>\n",
       "    <tr>\n",
       "      <th>33</th>\n",
       "      <td>NV</td>\n",
       "      <td>66325.0</td>\n",
       "      <td>6699.0</td>\n",
       "      <td>73024.0</td>\n",
       "    </tr>\n",
       "    <tr>\n",
       "      <th>34</th>\n",
       "      <td>NY</td>\n",
       "      <td>1840412.0</td>\n",
       "      <td>224630.0</td>\n",
       "      <td>2065042.0</td>\n",
       "    </tr>\n",
       "    <tr>\n",
       "      <th>35</th>\n",
       "      <td>OH</td>\n",
       "      <td>895280.0</td>\n",
       "      <td>124170.0</td>\n",
       "      <td>1019450.0</td>\n",
       "    </tr>\n",
       "    <tr>\n",
       "      <th>36</th>\n",
       "      <td>OK</td>\n",
       "      <td>103790.0</td>\n",
       "      <td>7733.0</td>\n",
       "      <td>111523.0</td>\n",
       "    </tr>\n",
       "    <tr>\n",
       "      <th>37</th>\n",
       "      <td>OR</td>\n",
       "      <td>286812.0</td>\n",
       "      <td>16928.0</td>\n",
       "      <td>303740.0</td>\n",
       "    </tr>\n",
       "    <tr>\n",
       "      <th>38</th>\n",
       "      <td>PA</td>\n",
       "      <td>2376131.0</td>\n",
       "      <td>108374.0</td>\n",
       "      <td>2484505.0</td>\n",
       "    </tr>\n",
       "    <tr>\n",
       "      <th>39</th>\n",
       "      <td>PR</td>\n",
       "      <td>113164.0</td>\n",
       "      <td>17230.0</td>\n",
       "      <td>130394.0</td>\n",
       "    </tr>\n",
       "    <tr>\n",
       "      <th>40</th>\n",
       "      <td>RI</td>\n",
       "      <td>187510.0</td>\n",
       "      <td>22694.0</td>\n",
       "      <td>210204.0</td>\n",
       "    </tr>\n",
       "    <tr>\n",
       "      <th>41</th>\n",
       "      <td>SC</td>\n",
       "      <td>395600.0</td>\n",
       "      <td>25891.0</td>\n",
       "      <td>421491.0</td>\n",
       "    </tr>\n",
       "    <tr>\n",
       "      <th>42</th>\n",
       "      <td>SD</td>\n",
       "      <td>23900.0</td>\n",
       "      <td>5603.0</td>\n",
       "      <td>29503.0</td>\n",
       "    </tr>\n",
       "    <tr>\n",
       "      <th>43</th>\n",
       "      <td>TN</td>\n",
       "      <td>782681.0</td>\n",
       "      <td>66544.0</td>\n",
       "      <td>849225.0</td>\n",
       "    </tr>\n",
       "    <tr>\n",
       "      <th>44</th>\n",
       "      <td>TX</td>\n",
       "      <td>2587047.0</td>\n",
       "      <td>215149.0</td>\n",
       "      <td>2802196.0</td>\n",
       "    </tr>\n",
       "    <tr>\n",
       "      <th>45</th>\n",
       "      <td>UT</td>\n",
       "      <td>354827.0</td>\n",
       "      <td>26065.0</td>\n",
       "      <td>380892.0</td>\n",
       "    </tr>\n",
       "    <tr>\n",
       "      <th>46</th>\n",
       "      <td>VA</td>\n",
       "      <td>328365.0</td>\n",
       "      <td>39627.0</td>\n",
       "      <td>367992.0</td>\n",
       "    </tr>\n",
       "    <tr>\n",
       "      <th>47</th>\n",
       "      <td>VT</td>\n",
       "      <td>26653.0</td>\n",
       "      <td>3235.0</td>\n",
       "      <td>29888.0</td>\n",
       "    </tr>\n",
       "    <tr>\n",
       "      <th>48</th>\n",
       "      <td>WA</td>\n",
       "      <td>352829.0</td>\n",
       "      <td>43237.0</td>\n",
       "      <td>396066.0</td>\n",
       "    </tr>\n",
       "    <tr>\n",
       "      <th>49</th>\n",
       "      <td>WI</td>\n",
       "      <td>464600.0</td>\n",
       "      <td>45522.0</td>\n",
       "      <td>510122.0</td>\n",
       "    </tr>\n",
       "    <tr>\n",
       "      <th>50</th>\n",
       "      <td>WV</td>\n",
       "      <td>106103.0</td>\n",
       "      <td>22269.0</td>\n",
       "      <td>128372.0</td>\n",
       "    </tr>\n",
       "    <tr>\n",
       "      <th>51</th>\n",
       "      <td>WY</td>\n",
       "      <td>36625.0</td>\n",
       "      <td>3337.0</td>\n",
       "      <td>39962.0</td>\n",
       "    </tr>\n",
       "  </tbody>\n",
       "</table>\n",
       "</div>"
      ],
      "text/plain": [
       "   state  cash_fine  online_fine  total_fine\n",
       "0     AK     1750.0          0.0      1750.0\n",
       "1     AL   641928.0      39771.0    681699.0\n",
       "2     AR   153131.0       7801.0    160932.0\n",
       "3     AZ   613168.0      28683.0    641851.0\n",
       "4     CA  4331517.0     406290.0   4737807.0\n",
       "5     CO   884454.0      30784.0    915238.0\n",
       "6     CT   602323.0      29959.0    632282.0\n",
       "7     DC   211669.0      38872.0    250541.0\n",
       "8     DE    49547.0       4440.0     53987.0\n",
       "9     FL  2400881.0     163166.0   2564047.0\n",
       "10    GA   553320.0      65325.0    618645.0\n",
       "11    HI    33447.0       9170.0     42617.0\n",
       "12    IA   231932.0      11774.0    243706.0\n",
       "13    ID    32975.0       4681.0     37656.0\n",
       "14    IL  1165328.0      91497.0   1256825.0\n",
       "15    IN   305220.0      45119.0    350339.0\n",
       "16    KS   282666.0      24539.0    307205.0\n",
       "17    KY   402919.0      34019.0    436938.0\n",
       "18    LA   228064.0      33857.0    261921.0\n",
       "19    MA  1605375.0     159396.0   1764771.0\n",
       "20    MD   819911.0      50994.0    870905.0\n",
       "21    ME    15725.0       3006.0     18731.0\n",
       "22    MI  1068920.0      77365.0   1146285.0\n",
       "23    MN   527479.0      47321.0    574800.0\n",
       "24    MO   920765.0      52821.0    973586.0\n",
       "25    MS    74250.0      11026.0     85276.0\n",
       "26    MT     8100.0       3108.0     11208.0\n",
       "27    NC  2229157.0      99278.0   2328435.0\n",
       "28    ND    15825.0        321.0     16146.0\n",
       "29    NE   191862.0       8388.0    200250.0\n",
       "30    NH   158720.0      13649.0    172369.0\n",
       "31    NJ   539084.0      61758.0    600842.0\n",
       "32    NM    59875.0       3955.0     63830.0\n",
       "33    NV    66325.0       6699.0     73024.0\n",
       "34    NY  1840412.0     224630.0   2065042.0\n",
       "35    OH   895280.0     124170.0   1019450.0\n",
       "36    OK   103790.0       7733.0    111523.0\n",
       "37    OR   286812.0      16928.0    303740.0\n",
       "38    PA  2376131.0     108374.0   2484505.0\n",
       "39    PR   113164.0      17230.0    130394.0\n",
       "40    RI   187510.0      22694.0    210204.0\n",
       "41    SC   395600.0      25891.0    421491.0\n",
       "42    SD    23900.0       5603.0     29503.0\n",
       "43    TN   782681.0      66544.0    849225.0\n",
       "44    TX  2587047.0     215149.0   2802196.0\n",
       "45    UT   354827.0      26065.0    380892.0\n",
       "46    VA   328365.0      39627.0    367992.0\n",
       "47    VT    26653.0       3235.0     29888.0\n",
       "48    WA   352829.0      43237.0    396066.0\n",
       "49    WI   464600.0      45522.0    510122.0\n",
       "50    WV   106103.0      22269.0    128372.0\n",
       "51    WY    36625.0       3337.0     39962.0"
      ]
     },
     "execution_count": 295,
     "metadata": {},
     "output_type": "execute_result"
    }
   ],
   "source": [
    "df_merge3"
   ]
  },
  {
   "cell_type": "code",
   "execution_count": 297,
   "metadata": {},
   "outputs": [
    {
     "data": {
      "image/png": "[encoded data removed]",
      "text/plain": [
       "<Figure size 1296x792 with 1 Axes>"
      ]
     },
     "metadata": {},
     "output_type": "display_data"
    }
   ],
   "source": [
    "import squarify\n",
    "plt.figure(figsize=(18,11))\n",
    "plt.rc('font', size=12)\n",
    "squarify.plot(sizes=df_merge3['total_fine'], label=df_merge3['state'], alpha=.3)\n",
    "plt.show()tg"
   ]
  },
  {
   "cell_type": "markdown",
   "metadata": {},
   "source": [
    "##### Major penalty recieving states we can see at the glimpse"
   ]
  }
 ],
 "metadata": {
  "kernelspec": {
   "display_name": "Python 3",
   "language": "python",
   "name": "python3"
  },
  "language_info": {
   "codemirror_mode": {
    "name": "ipython",
    "version": 3
   },
   "file_extension": ".py",
   "mimetype": "text/x-python",
   "name": "python",
   "nbconvert_exporter": "python",
   "pygments_lexer": "ipython3",
   "version": "3.7.3"
  }
 },
 "nbformat": 4,
 "nbformat_minor": 2
}
